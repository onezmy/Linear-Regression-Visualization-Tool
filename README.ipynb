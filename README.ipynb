{
 "cells": [
  {
   "cell_type": "markdown",
   "id": "63ad13a4",
   "metadata": {},
   "source": [
    "# Linear-Regression-Visualization-Tool\n",
    "JHU EN.601.664 AI - Final Project\n",
    "This is a tool for processing Linear Regression with Gradient Descent based on python environment.\n",
    "\n",
    "How to start:\n",
    "## If ```ttkbootstrap``` not installed, you can install by :\n",
    "      - PyPI Installation:  ``` python -m pip install ttkbootstrap ```<br />\n",
    "      - Github Installation: ```python -m pip install git+https://github.com/israel-dryer/ttkbootstrap```<br />\n",
    "\n",
    "\n",
    "## Data Manipulate \n",
    "**Add/Remove**: enter values for *X* and *Y*, then hit the **Add/Remove** button, only one copy of the data point will be removed for one hit of the button if there are multiple data points with the same value. <br />\n",
    "**Load/Save**: enter the file name (if same path as the .py file) or full path of the data, then will load/save the data。<br />\n",
    "**Clear**: clear all current data.<br />\n",
    "\n",
    "\n",
    "## Linear Regression\n",
    "Note: the loss function is $L = \\frac{1}{n}\\sum(y-\\hat{y})$<br />\n",
    "**Start**: hit to start the Linear Regression with Gradient Descent based on current data. It will process automatically and generate a gif file to current path, then show the process in loop.<br />\n",
    "**Learning Rate**: Default value 0.01, directly modify the text box to adjust the learning rate in the iteration.<br />\n",
    "**Max Iteration**: Default value 50, directly modify the text box to adjust number of iteration.<br />\n",
    "\n",
    "\n",
    "## Other files:\n",
    "**My_LR_Tool.py**: main file.<br />\n",
    "**Random Data.ipynb**: a file can quickly generate random sample <br />\n",
    "**1.csv**: sample data with 100 numbers with distribution $y=5.5x+1.75$. <br />\n",
    "**test.gif**: generated regression process. <br />\n",
    "**test_loss.gif**: generated loss values during regression.<br />\n",
    "**Demo Video.mp4**: a demo of how to use the tool. "
   ]
  }
 ],
 "metadata": {
  "kernelspec": {
   "display_name": "Python 3 (ipykernel)",
   "language": "python",
   "name": "python3"
  },
  "language_info": {
   "codemirror_mode": {
    "name": "ipython",
    "version": 3
   },
   "file_extension": ".py",
   "mimetype": "text/x-python",
   "name": "python",
   "nbconvert_exporter": "python",
   "pygments_lexer": "ipython3",
   "version": "3.9.13"
  }
 },
 "nbformat": 4,
 "nbformat_minor": 5
}
